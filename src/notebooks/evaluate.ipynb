{
 "cells": [
  {
   "cell_type": "code",
   "execution_count": 1,
   "id": "130eb43e-163f-47a1-98dd-f75a4ca3b3a4",
   "metadata": {
    "tags": []
   },
   "outputs": [
    {
     "name": "stdout",
     "output_type": "stream",
     "text": [
      "Torch version: 2.3.0+cu121\n",
      "Timm version: 0.9.16\n"
     ]
    }
   ],
   "source": [
    "import os\n",
    "import copy\n",
    "import sys\n",
    "import glob\n",
    "import seaborn as sns\n",
    "import matplotlib.pyplot as plt\n",
    "from matplotlib.ticker import MaxNLocator\n",
    "import numpy as np\n",
    "import pandas as pd\n",
    "from PIL import Image\n",
    "import pickle\n",
    "from sklearn.metrics import confusion_matrix, ConfusionMatrixDisplay, precision_score, recall_score, f1_score\n",
    "\n",
    "import timm\n",
    "import torch\n",
    "import torch.nn as nn\n",
    "import torch.optim as optim\n",
    "import torch.utils.data as data\n",
    "from torchvision import transforms\n",
    "from torchvision.models import resnet101, mobilenet_v2\n",
    "from tqdm.notebook import tqdm\n",
    "\n",
    "print(f'Torch version: {torch.__version__}')\n",
    "print(f'Timm version: {timm.__version__}')"
   ]
  },
  {
   "cell_type": "code",
   "execution_count": 27,
   "id": "bbe02908-1138-4de0-b019-4d7b3d5a8894",
   "metadata": {
    "tags": []
   },
   "outputs": [],
   "source": [
    "dataset_dir = '../../datasets/rafdb/basic'\n",
    "batch_size = 32\n",
    "\n",
    "model = torch.load(\"../../models/raf/raf_enet_b2.pt\")\n",
    "model = model.eval()"
   ]
  },
  {
   "cell_type": "code",
   "execution_count": 30,
   "id": "8681e79c-601c-47a4-be8f-b3fa83e5909e",
   "metadata": {
    "tags": []
   },
   "outputs": [],
   "source": [
    "USE_ENET2 = True\n",
    "use_cuda = torch.cuda.is_available()\n",
    "IMG_SIZE = 260 if USE_ENET2 else 224\n",
    "\n",
    "train_transforms = transforms.Compose(\n",
    "    [\n",
    "        transforms.Resize((IMG_SIZE, IMG_SIZE)),\n",
    "        transforms.RandomHorizontalFlip(),\n",
    "        transforms.ToTensor(),\n",
    "        transforms.Normalize(mean=[0.485, 0.456, 0.406], std=[0.229, 0.224, 0.225])\n",
    "    ]\n",
    ")\n",
    "\n",
    "test_transforms = transforms.Compose(\n",
    "    [\n",
    "        transforms.Resize((IMG_SIZE, IMG_SIZE)),\n",
    "        transforms.ToTensor(),\n",
    "        transforms.Normalize(mean=[0.485, 0.456, 0.406], std=[0.229, 0.224, 0.225])\n",
    "    ]\n",
    ")\n",
    "kwargs = {'num_workers': 0, 'pin_memory': True} if use_cuda else {}"
   ]
  },
  {
   "cell_type": "code",
   "execution_count": 31,
   "id": "cff282cb-79ec-49f8-8082-17f327886a56",
   "metadata": {
    "tags": []
   },
   "outputs": [],
   "source": [
    "class RafDb(data.Dataset):\n",
    "    def __init__(self, dataset_path, phase, cache_data=True, data_transforms=None, update_cache=False):\n",
    "        self.phase = phase\n",
    "        self.transforms = data_transforms\n",
    "        self.dataset_path = dataset_path\n",
    "        \n",
    "        if cache_data:\n",
    "            cache_path = os.path.join(dataset_path, f'rafdb_{phase}.csv')\n",
    "            if os.path.exists(cache_path) and not update_cache:\n",
    "                df = pd.read_csv(cache_path)\n",
    "            else:\n",
    "                df = self.load_data()\n",
    "                df.to_csv(cache_path)   \n",
    "        else:\n",
    "            df = self.load_data()\n",
    "\n",
    "        if phase == 'train':\n",
    "            self.data = df[df['file_name'].str.startswith('train')]\n",
    "        elif phase == 'test':\n",
    "            self.data = df[df['file_name'].str.startswith('test')]\n",
    "        else:\n",
    "            raise TypeError(f\"Invalid value for phase {phase}\")\n",
    "        \n",
    "        self.file_paths = self.data.loc[:, 'file_path'].values\n",
    "        self.labels = self.data.loc[:, 'label'].values - 1\n",
    "        print(f'{phase} set: {len(self)} images')\n",
    "            \n",
    "    def load_data(self):\n",
    "        df = pd.read_csv(os.path.join(self.dataset_path, 'EmoLabel', 'list_patition_label.txt'), sep=' ', header=None, names=['file_name', 'label'])\n",
    "        file_names = df.loc[:, 'file_name'].values\n",
    "        file_paths = []\n",
    "        for f in file_names:\n",
    "            f = f.split(\".\")[0]\n",
    "            f += '_aligned.jpg'\n",
    "            path = os.path.join(self.dataset_path, 'Image', 'aligned', f)\n",
    "            file_paths.append(path)\n",
    "        \n",
    "        df['file_path'] = file_paths\n",
    "        return df\n",
    "    \n",
    "    def get_weights(self):\n",
    "        sample_label, sample_counts = np.unique(self.labels, return_counts=True)\n",
    "        cw = 1/sample_counts\n",
    "        cw /= cw.min()\n",
    "        class_weights = {i:cwi for i, cwi in zip(sample_label, cw)}\n",
    "        return class_weights\n",
    "    \n",
    "    def __len__(self):\n",
    "        return len(self.file_paths)\n",
    "    \n",
    "    def __getitem__(self, idx):\n",
    "        path = self.file_paths[idx]\n",
    "        image = Image.open(path).convert('RGB')\n",
    "        label = self.labels[idx]\n",
    "        \n",
    "        if self.transforms is not None:\n",
    "            image = self.transforms(image)\n",
    "            \n",
    "        return image, label"
   ]
  },
  {
   "cell_type": "code",
   "execution_count": 32,
   "id": "2aa0b93a-0682-4078-9250-8bc3665ad134",
   "metadata": {
    "tags": []
   },
   "outputs": [],
   "source": [
    "class EmotionLabel:\n",
    "    def __init__(self):\n",
    "        self.labels = ['Surprise', 'Fear', 'Disgust', 'Happiness', 'Sadness', 'Anger', 'Neutral']\n",
    "        self.index_to_label = {index: label for index, label in enumerate(self.labels)} \n",
    "        self.label_to_index = {label: index for index, label in enumerate(self.labels)}\n",
    "        \n",
    "    def get_index(self, label):\n",
    "        return self.label_to_index.get(label, None)\n",
    "    \n",
    "    def get_label(self, index):\n",
    "        return self.index_to_label.get(index, None)"
   ]
  },
  {
   "cell_type": "code",
   "execution_count": 33,
   "id": "933f2f43-84bf-43c1-96d5-2a2980f68c30",
   "metadata": {
    "tags": []
   },
   "outputs": [
    {
     "name": "stdout",
     "output_type": "stream",
     "text": [
      "train set: 12271 images\n",
      "test set: 3068 images\n"
     ]
    }
   ],
   "source": [
    "train_set = RafDb(dataset_dir, 'train', data_transforms=train_transforms, update_cache=True)\n",
    "val_set = RafDb(dataset_dir, 'test', data_transforms=test_transforms, update_cache=True)\n",
    "train_loader = data.DataLoader(train_set, batch_size=batch_size, shuffle=True, **kwargs)\n",
    "val_loader = data.DataLoader(val_set, batch_size=batch_size, shuffle=False, **kwargs)"
   ]
  },
  {
   "cell_type": "code",
   "execution_count": 34,
   "id": "c1b27152-352f-4880-b178-f45bb0466303",
   "metadata": {
    "tags": []
   },
   "outputs": [
    {
     "name": "stdout",
     "output_type": "stream",
     "text": [
      "Surprise: 3.70\n",
      "Fear: 16.98\n",
      "Disgust: 6.66\n",
      "Happiness: 1.00\n",
      "Sadness: 2.41\n",
      "Anger: 6.77\n",
      "Neutral: 1.89\n"
     ]
    }
   ],
   "source": [
    "mapper = EmotionLabel()\n",
    "\n",
    "class_weights = train_set.get_weights()\n",
    "for label_idx, weight in class_weights.items():\n",
    "    print(f'{mapper.get_label(label_idx)}: {weight:.2f}')"
   ]
  },
  {
   "cell_type": "code",
   "execution_count": 35,
   "id": "2818f258-bbb8-4a67-be4d-d0ea3767aef6",
   "metadata": {
    "tags": []
   },
   "outputs": [
    {
     "name": "stdout",
     "output_type": "stream",
     "text": [
      "(3068, 7) (3068,)\n"
     ]
    }
   ],
   "source": [
    "y_val, y_scores_val = [], []\n",
    "model.eval()\n",
    "\n",
    "for image, label in val_set:\n",
    "    image.unsqueeze_(0)\n",
    "    image = image.cuda()\n",
    "    scores = model(image)\n",
    "    scores = scores[0].data.cpu().numpy()\n",
    "    y_scores_val.append(scores)\n",
    "    y_val.append(label)\n",
    "\n",
    "y_scores_val = np.array(y_scores_val)\n",
    "y_val = np.array(y_val)\n",
    "print(y_scores_val.shape, y_val.shape)"
   ]
  },
  {
   "cell_type": "code",
   "execution_count": 36,
   "id": "455f1905-a576-4286-bec2-3549d90fe373",
   "metadata": {
    "tags": []
   },
   "outputs": [
    {
     "name": "stdout",
     "output_type": "stream",
     "text": [
      "Validation accuracy: 87.1251629726206\n",
      "Surprise (1290/329) -- Accuracy: 87.234043\n",
      "Fear (281/74) -- Accuracy: 55.405405\n",
      "Disgust (717/160) -- Accuracy: 65.000000\n",
      "Happiness (4772/1185) -- Accuracy: 92.995781\n",
      "Sadness (1982/478) -- Accuracy: 84.309623\n",
      "Anger (705/162) -- Accuracy: 85.802469\n",
      "Neutral (2524/680) -- Accuracy: 87.794118\n"
     ]
    }
   ],
   "source": [
    "y_pred = np.argmax(y_scores_val, axis=1)\n",
    "accuracy = 100.0 * (y_val == y_pred).sum() / len(y_val)\n",
    "print(f\"Validation accuracy: {accuracy}\")\n",
    "\n",
    "y_train = np.array(train_set.labels)\n",
    "\n",
    "# Accuracy for each class\n",
    "for i in range(y_scores_val.shape[1]):\n",
    "    _val_acc = (y_pred[y_val == i] == i).sum() / (y_val == i).sum()\n",
    "    print('%s (%d/%d) -- Accuracy: %f' %(mapper.get_label(i), (y_train == i).sum(), (y_val == i).sum(), (100 * _val_acc)))"
   ]
  },
  {
   "cell_type": "code",
   "execution_count": 37,
   "id": "e52acd07-8fb2-40c6-b431-dffbb94b54c7",
   "metadata": {
    "tags": []
   },
   "outputs": [
    {
     "name": "stdout",
     "output_type": "stream",
     "text": [
      "Precision: 0.81\n",
      "Recall: 0.80\n",
      "F1 Score: 0.80\n"
     ]
    }
   ],
   "source": [
    "precision = precision_score(y_val, y_pred, average='macro')\n",
    "recall = recall_score(y_val, y_pred, average='macro')\n",
    "f1 = f1_score(y_val, y_pred, average='macro')\n",
    "\n",
    "print(f'Precision: {precision:.2f}\\nRecall: {recall:.2f}\\nF1 Score: {f1:.2f}')"
   ]
  },
  {
   "cell_type": "code",
   "execution_count": 38,
   "id": "f8557338-0882-4180-b175-eecb17d8a17d",
   "metadata": {
    "tags": []
   },
   "outputs": [
    {
     "name": "stdout",
     "output_type": "stream",
     "text": [
      "Precision: 0.87\n",
      "Recall: 0.87\n",
      "F1 Score: 0.87\n"
     ]
    }
   ],
   "source": [
    "precision = precision_score(y_val, y_pred, average='weighted')\n",
    "recall = recall_score(y_val, y_pred, average='weighted')\n",
    "f1 = f1_score(y_val, y_pred, average='weighted')\n",
    "\n",
    "print(f'Precision: {precision:.2f}\\nRecall: {recall:.2f}\\nF1 Score: {f1:.2f}')"
   ]
  }
 ],
 "metadata": {
  "kernelspec": {
   "display_name": "Python [conda env:torch-cuda]",
   "language": "python",
   "name": "conda-env-torch-cuda-py"
  },
  "language_info": {
   "codemirror_mode": {
    "name": "ipython",
    "version": 3
   },
   "file_extension": ".py",
   "mimetype": "text/x-python",
   "name": "python",
   "nbconvert_exporter": "python",
   "pygments_lexer": "ipython3",
   "version": "3.11.9"
  }
 },
 "nbformat": 4,
 "nbformat_minor": 5
}
